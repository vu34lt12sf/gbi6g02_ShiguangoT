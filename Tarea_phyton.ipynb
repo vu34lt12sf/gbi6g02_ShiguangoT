{
 "cells": [
  {
   "attachments": {},
   "cell_type": "markdown",
   "id": "5db6038a",
   "metadata": {},
   "source": [
    "## <center><h2>BIOINFORMÁTICA</h2></center>\n",
    "# <center><h2>Tarea PYTHON 1</h2></center>\n",
    "\n",
    "### Nombre: Tatiana Shiguango\n",
    "### Fecha de entrega: Sábado 17 de junio de 2022\n",
    "\n",
    "\n",
    "<center><h2>Actividad</h2></center>\n",
    "\n",
    "### Conceptos generales\n",
    "\n",
    "## <center><h2>Código genetico</h2></center>\n",
    "\n",
    "\n",
    "\n",
    "## Dogma central de la biología molcecular\n",
    "\n",
    "**El dogma central de la biologia propone que existe unidireccionalidad en la expresion de la información contenida en el ADN de las células, ya que el ADN es transcrito a ARNm y el ARNm es traducido a una proteina**\n",
    "\n",
    "Consiste en dos pasos: \n",
    "1. Trnascripción: la secuencia de ADN de un gen se copia para obtener una molécula de ARN.\n",
    "\n",
    "2. Traducción: la secuencia de ARNm se decodifica para especificar la secuencia de aminoácidos de un polipéptido.\n",
    "\n",
    "<img src=\"https://cdn.kastatic.org/ka-perseus-images/3e101241da8f1f47299852a49c8abf47dd3c151e.png\" eidth=500 heigh=300 />\n",
    "\n",
    "\n",
    "### ¿Qué es el codon de inicio?\n",
    "\n",
    "El condon de incio es un aminoácido de **tres bases nitrogenadas** que marca el comienzo de una proteína y esta es el codon **AUG**. \n",
    "\n",
    "### ¿Qué es el codon Final?\n",
    "El condon final o de terminación es un aminoácido de **tres bases nitrogenadas** que marca el  fin de una proteína. En la secuencia del ADNm se encuentra tres codones y son: **UAA** **UAG** **UGA**.  \n",
    "\n",
    "\n",
    "### ¿Qué es ADN?\n",
    "\n",
    "ADN o ácido desorribonucleico es el material que contiene la información gnetica de un organismo. La información en el ADN se encuentra almacena como un código compuesto por cuatro bases químicas, adenina (A), guanina (G), citosina (C) y timina (T). \n",
    "\n",
    "El ADN es una doble hélice formada por pares de bases unidos a un esqueleto de azúcar-fosfato.\n",
    "\n",
    "<img src=\"https://medlineplus.gov/images/PX000098_PRESENTATION.jpeg\" eidth=400 heigh=300 />\n",
    "\n",
    "\n",
    "### ¿Qué es el ARNm?\n",
    "\n",
    "El ARNm o áidoribonucleico mensajero es un tipo de ARN con una única cadena  que se forma surante la trasnscripción de ADN a ARN y tiene como función llevar la información genetica desde en ADN hasta para la sintesis de la proteina, peptidos.  \n",
    "\n",
    "\n",
    "### ¿Qué es el ADNc?\n",
    "\n",
    "EL ADN complementario (ADNc) es una copia de ADN de una molécula de ARN mensajero (ARNm) producida por transcriptasa inversa, una ADN polimerasa que puede usar ADN o ARN como plantilla.En terminos simples es el transcripto del ARNm. \n",
    "\n",
    "\n",
    "### ¿Qué es el reverso  complementario?\n",
    "\n",
    "Es la reversión de la hiledad de cadena y el complemento. El reverso de una secuencia consiste en cambiar los nucleotidos A A con T o C con G, y viceversa. El reverso complementario convierte una secuencia de ADN en su reversa. \n",
    "\n",
    "### ¿Qué es el FORWARD?\n",
    "Es un marco de lectura en sentido(5'-3') de la hebra codificante(hebra sentido), por ejemplo de izquierda a derecha.\n",
    "\n",
    "\n",
    "### ¿Qué es el BACKWARD?\n",
    "\n",
    "Es el un marco de lectura en sentido(3'-5')\n",
    "\n",
    "## Referencias\n",
    "\n",
    "1. Biblioteca Nacional de Medicina.(2021). ¿Qué es el ADN?.MedlinePlus Genetics. https://medlineplus.gov/spanish/genetica/ent\n",
    "\n",
    "2. National Human Genome Research Institute. (2022).ARN mensajero (ARNm).https://www.genome.gov/es/genetics-glossary/ARN-mensajero\n",
    "\n",
    "3. Hastings, P. (2001). Complementary DNA (cDNA). Encyclopedia Of Genetics, 433. doi: 10.1006/rwgn.2001.0253\n",
    "\n",
    "4. Valverde, K. (2022). Uso de herramientas para alineación de secuencias y creación de árboles filogenéticos para la determinación de especies .*Tecnología en Marcha*, *2*, 30-34.DOI: 10.18845/tm.v30i5.3218\n",
    "\n",
    "5. Khan Academy. (2022).Introducción a la expresión génica (dogma central). https://es.khanacademy.org/science/ap-biology/gene-expression-and-regulation/translation/a/intro-to-gene-expression-central-dogma\n",
    "\n",
    "6. Khan Academy. (2022). El código genético. https://es.khanacademy.org/science/ap-biology/gene-expression-and-regulation/translation/a/the-genetic-code-discovery-and-properties\n"
   ]
  },
  {
   "cell_type": "code",
   "execution_count": 3,
   "id": "321cacec",
   "metadata": {},
   "outputs": [
    {
     "data": {
      "text/plain": [
       "'AAGGACCNGACATCCATCGCTGATGTCAATCCCCCGTGGATCGTAAGTCCGGGAGTAGGAGGAGGAAGGGTCGTCCCACAGTGCGAAGAGGCTTCTGACCTACTGACGGTACCTCCTCAGTGTCAGCCTATAGTCGGAGCTCGAGGGAGACTCGGTCCTCTGTAAAAGTCCGAATACCTTTGATGAAGGAGGTCTTCTATAGGACGGTAG'"
      ]
     },
     "execution_count": 3,
     "metadata": {},
     "output_type": "execute_result"
    }
   ],
   "source": [
    "seq1 = \"AAGGACCNGACATCCATCGCTGATGTCAATCCCCCGTGGATCGTAAGTCCGGGAGTAGGAGGAGGAAGGGTCGTCCCACAGTGCGAAGAGGCTTCTGACCTACTGACGGTACCTCCTCAGTGTCAGCCTATAGTCGGAGCTCGAGGGAGACTCGGTCCTCTGTAAAAGTCCGAATACCTTTGATGAAGGAGGTCTTCTATAGGACGGTAG\"\n",
    "seq1"
   ]
  },
  {
   "cell_type": "markdown",
   "id": "c6f00787",
   "metadata": {},
   "source": [
    "El comando count() sirve para contar el numero de lementos dentro del resgistro"
   ]
  },
  {
   "cell_type": "code",
   "execution_count": 4,
   "id": "c6d27b6b",
   "metadata": {},
   "outputs": [
    {
     "data": {
      "text/plain": [
       "54.29"
      ]
     },
     "execution_count": 4,
     "metadata": {},
     "output_type": "execute_result"
    }
   ],
   "source": [
    "# Primero se crea un el nombre del nucleotido que se llama nuc_c que contiene el numeró de elementos G (Guanina)\n",
    "\n",
    "nuc_g = seq1.count('G') # NUMERO DE ELEMNTOS G\n",
    "nuc_c = seq1.count('C')  #número de elementos C\n",
    "len_seq1 = len(seq1) # comando\"len\" sirve para sacar la longitud o la totalidaad de elemntos de la secuencia\n",
    "porcent_GC = 100*(nuc_c + nuc_g)/ len_seq1  # REALIZAR UNA suma del numeo total de elemntos G y C, dividio entre el numero total de elementos de la secuencia\n",
    "porcent_GC # mostrar el resultado\n",
    "\n",
    "round(porcent_GC, 2) #comando round() permite redondear la respuesta en 2 decimales"
   ]
  },
  {
   "cell_type": "markdown",
   "id": "046e000a",
   "metadata": {},
   "source": [
    "Para crear  la secuencia complementaria y el reverso complementario(RComp)"
   ]
  },
  {
   "cell_type": "code",
   "execution_count": 15,
   "id": "cd70e901",
   "metadata": {},
   "outputs": [
    {
     "name": "stdout",
     "output_type": "stream",
     "text": [
      "AAGGACCNGACATCCATCGCTGATGTCAATCCCCCGTGGATCGTAAGTCCGGGAGTAGGAGGAGGAAGGGTCGTCCCACAGTGCGAAGAGGCTTCTGACCTACTGACGGTACCTCCTCAGTGTCAGCCTATAGTCGGAGCTCGAGGGAGACTCGGTCCTCTGTAAAAGTCCGAATACCTTTGATGAAGGAGGTCTTCTATAGGACGGTAG\n",
      "TTCCTGGNCTGTAGGTAGCGACTACAGTTAGGGGGCACCTAGCATTCAGGCCCTCATCCTCCTCCTTCCCAGCAGGGTGTCACGCTTCTCCGAAGACTGGATGACTGCCATGGAGGAGTCACAGTCGGATATCAGCCTCGAGCTCCCTCTGAGCCAGGAGACATTTTCAGGCTTATGGAAACTACTTCCTCCAGAAGATATCCTGCCATC\n",
      "CTACCGTCCTATAGAAGACCTCCTTCATCAAAGGTATTCGGACTTTTACAGAGGACCGAGTCTCCCTCGAGCTCCGACTATAGGCTGACACTGAGGAGGTACCGTCAGTAGGTCAGAAGCCTCTTCGCACTGTGGGACGACCCTTCCTCCTCCTACTCCCGGACTTACGATCCACGGGGGATTGACATCAGCGATGGATGTCNGGTCCTT\n"
     ]
    }
   ],
   "source": [
    "# Codigo para hallar la cadena complemendaria del la secuencia, mRNAA, reverso de la cadena complementaria\n",
    "\n",
    "gene_temporal = seq1.replace(\"A\", \"t\") # se esta creando un gen temporal, donde se cambia las A por t\n",
    "gene_temporal = gene_temporal.replace(\"T\", \"a\") # sobre el mismo gen se cambia las T por la *a*\n",
    "gene_temporal = gene_temporal.replace(\"C\", \"g\") # sobre el mismo gen se cambia las C por las g\n",
    "gene_temporal = gene_temporal.replace(\"G\", \"c\") # sobre el mismo gen temporal se cambia las G por las c\n",
    "cseq1 = gene_temporal.upper() # el comando upper() cambia todas las minusculas de las gen temporal por MAYUSCULAS de minuscula a mayuscula\n",
    "rcseq1 = cseq1[::-1] # reverso de la cadena COMPLEMENTARIA \n",
    "mRNA = seq1.replace(\"T\", \"U\") # ARN mensajero\n",
    "\n",
    "print(seq1) # imprime el gen principal\n",
    "\n",
    "print(cseq1) # imprime la secuencia complementaria que va desde 5' a 3', de derecha a izquierda\n",
    "\n",
    "print(rcseq1) # reverso del  secuencia complementaria\n"
   ]
  },
  {
   "cell_type": "markdown",
   "id": "ab1cbc7b",
   "metadata": {},
   "source": [
    "### Indentifiación de codones de inicio y final en sentido forwarl del la secuencia complementaria y reverso se la secuencia complementaria "
   ]
  },
  {
   "cell_type": "code",
   "execution_count": 23,
   "id": "b1197bf4",
   "metadata": {},
   "outputs": [
    {
     "name": "stdout",
     "output_type": "stream",
     "text": [
      "TTCCTGGNCTG***G***CGACTACAGT***GGGGCACC***CATTCAGGCCCTCATCCTCCTCCTTCCCAGCAGGGTGTCACGCTTCTCCGAAGACTGG...ACTGCC...GAGGAGTCACAGTCGGATATCAGCCTCGAGCTCCCTC***GCCAGGAGACATTTTCAGGCTT...GAAACTACTTCCTCCAGAAGATATCCTGCCATC\n",
      "TTCCTGGNCTGTAGGTAGCGACTACAGTTAGGGGGCACCTAGCATTCAGGCCCTCATCCTCCTCCTTCCCAGCAGGGTGTCACGCTTCTCCGAAGACTGGATGACTGCCATGGAGGAGTCACAGTCGGATATCAGCCTCGAGCTCCCTCTGAGCCAGGAGACATTTTCAGGCTTATGGAAACTACTTCCTCCAGAAGATATCCTGCCATC\n"
     ]
    }
   ],
   "source": [
    "# Lectura del código genetico en sentido Forward de la secuencia complementaria \n",
    "gen_showc = cseq1.replace('ATG', \"...\") # indentifica el condon de inicio y remplaza por el caracter \"...\"\n",
    "#Se indentifica el condon stop y remplaza \"TAG\" por \"---\" , \"TGA\" por \"***\" , \"TAA\" por \"___\"\n",
    "gen_showc = gen_showc.replace('TAG', \"***\") \n",
    "gen_showc = gen_showc.replace('TGA', \"***\")\n",
    "gen_showc = gen_showc.replace('TAA', \"***\")\n",
    "print(gen_showc) #imprime los cambios ejecutados\n",
    "print(cseq1) # imprime la secuencia complementaria que va desde 5' a 3', de derecha a izquierda\n",
    "\n"
   ]
  },
  {
   "cell_type": "code",
   "execution_count": 24,
   "id": "d572d95f",
   "metadata": {},
   "outputs": [
    {
     "name": "stdout",
     "output_type": "stream",
     "text": [
      "CTACCGTCCTA***AAGACCTCCTTCATCAAAGGTATTCGGACTTTTACAGAGGACCGAGTCTCCCTCGAGCTCCGACTA***GC***CAC***GGAGGTACCGTCAG***GTCAGAAGCCTCTTCGCACTGTGGGACGACCCTTCCTCCTCCTACTCCCGGACTTACGATCCACGGGGGAT***CATCAGCG...G...TCNGGTCCTT\n",
      "CTACCGTCCTATAGAAGACCTCCTTCATCAAAGGTATTCGGACTTTTACAGAGGACCGAGTCTCCCTCGAGCTCCGACTATAGGCTGACACTGAGGAGGTACCGTCAGTAGGTCAGAAGCCTCTTCGCACTGTGGGACGACCCTTCCTCCTCCTACTCCCGGACTTACGATCCACGGGGGATTGACATCAGCGATGGATGTCNGGTCCTT\n"
     ]
    }
   ],
   "source": [
    "# Lectura del código genetico en sentido Forward de la reverso de la secuencia complementaria \n",
    "gen_showrc = rcseq1.replace('ATG', \"...\") # indentifica el condon de inicio y remplaza por el caracter \"***\"\n",
    "#Se indentifica el condon stop y remplaza \"TAG\" por \"***\" , \"TGA\" por \"***\" , \"TAA\" por \"***\"\n",
    "gen_showrc = gen_showrc.replace('TAG', \"***\") \n",
    "gen_showrc = gen_showrc.replace('TGA', \"***\")\n",
    "gen_showrc = gen_showrc.replace('TAA', \"***\")\n",
    "print(gen_showrc)#imprime los cambios ejecutados\n",
    "print(rcseq1) # reverso del  secuencia complementaria"
   ]
  },
  {
   "cell_type": "code",
   "execution_count": null,
   "id": "e152de65",
   "metadata": {},
   "outputs": [],
   "source": []
  },
  {
   "cell_type": "markdown",
   "id": "c846ddb3",
   "metadata": {},
   "source": [
    "## <center><h2>RESULTADOS</h2></center>\n",
    "\n",
    "ARNm=\"TTCCTGGNCTG***G***CGACTACAGT***GGGGCACC***CATTCAGGCCCTCATCCTCCTCCTTCCCAGCAGGGTGTCACGCTTCTCCGAAGACTGG...ACTGCC...GAGGAGTCACAGTCGGATATCAGCCTCGAGCTCCCTC***GCCAGGAGACATTTTCAGGCTT...GAAACTACTTCCTCCAGAAGATATCCTGCCATC\"\n",
    "\n",
    "\n",
    "Segun el marco de lectura del ARNm  se va a codificar 1 proteinas la \"ATGACTGCCATGGAGGAGTCACAGTCGGATATCAGCCTCGAGCTCCCTC\"  por que empieza en ATG Yy termina en CTC antes del odon stop TGA."
   ]
  },
  {
   "cell_type": "code",
   "execution_count": null,
   "id": "2425042c",
   "metadata": {},
   "outputs": [],
   "source": []
  }
 ],
 "metadata": {
  "kernelspec": {
   "display_name": "Python 3 (ipykernel)",
   "language": "python",
   "name": "python3"
  },
  "language_info": {
   "codemirror_mode": {
    "name": "ipython",
    "version": 3
   },
   "file_extension": ".py",
   "mimetype": "text/x-python",
   "name": "python",
   "nbconvert_exporter": "python",
   "pygments_lexer": "ipython3",
   "version": "3.9.12"
  }
 },
 "nbformat": 4,
 "nbformat_minor": 5
}
